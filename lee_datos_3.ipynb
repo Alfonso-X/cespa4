{
  "nbformat": 4,
  "nbformat_minor": 0,
  "metadata": {
    "colab": {
      "provenance": [],
      "authorship_tag": "ABX9TyP+m6Zumik9k+/D+TTX9tGh",
      "include_colab_link": true
    },
    "kernelspec": {
      "name": "python3",
      "display_name": "Python 3"
    },
    "language_info": {
      "name": "python"
    }
  },
  "cells": [
    {
      "cell_type": "markdown",
      "metadata": {
        "id": "view-in-github",
        "colab_type": "text"
      },
      "source": [
        "<a href=\"https://colab.research.google.com/github/Alfonso-X/cespa4/blob/main/lee_datos_3.ipynb\" target=\"_parent\"><img src=\"https://colab.research.google.com/assets/colab-badge.svg\" alt=\"Open In Colab\"/></a>"
      ]
    },
    {
      "cell_type": "code",
      "execution_count": 1,
      "metadata": {
        "colab": {
          "base_uri": "https://localhost:8080/",
          "height": 526
        },
        "id": "46KWfbZ2dCfv",
        "outputId": "3d5dba67-3730-4d74-8f46-b6748002b85e"
      },
      "outputs": [
        {
          "output_type": "stream",
          "name": "stdout",
          "text": [
            "fecha y hora:  16-12_123512\n",
            "Data:  {'symbol': 'AL30', 'q_bid': 1827.0, 'px_bid': 77000.0, 'px_ask': 80000.0, 'q_ask': 10413.0, 'v': 136220458.0, 'q_op': 31166.0, 'c': 78410.0, 'pct_change': 1.72}\n",
            "Data:  {'symbol': 'AL30', 'q_bid': 1827.0, 'px_bid': 77000.0, 'px_ask': 80000.0, 'q_ask': 10413.0, 'v': 136220458.0, 'q_op': 31166.0, 'c': 78410.0, 'pct_change': 1.72}\n",
            "Data:  {'symbol': 'AL30', 'q_bid': 1827.0, 'px_bid': 77000.0, 'px_ask': 80000.0, 'q_ask': 10413.0, 'v': 136220458.0, 'q_op': 31166.0, 'c': 78410.0, 'pct_change': 1.72}\n",
            "Data:  {'symbol': 'AL30', 'q_bid': 1827.0, 'px_bid': 77000.0, 'px_ask': 80000.0, 'q_ask': 10413.0, 'v': 136220458.0, 'q_op': 31166.0, 'c': 78410.0, 'pct_change': 1.72}\n",
            "Data:  {'symbol': 'AL30', 'q_bid': 1827.0, 'px_bid': 77000.0, 'px_ask': 80000.0, 'q_ask': 10413.0, 'v': 136220458.0, 'q_op': 31166.0, 'c': 78410.0, 'pct_change': 1.72}\n",
            "Data:  {'symbol': 'AL30', 'q_bid': 1827.0, 'px_bid': 77000.0, 'px_ask': 80000.0, 'q_ask': 10413.0, 'v': 136220458.0, 'q_op': 31166.0, 'c': 78410.0, 'pct_change': 1.72}\n",
            "Data:  {'symbol': 'AL30', 'q_bid': 1827.0, 'px_bid': 77000.0, 'px_ask': 80000.0, 'q_ask': 10413.0, 'v': 136220458.0, 'q_op': 31166.0, 'c': 78410.0, 'pct_change': 1.72}\n",
            "Data:  {'symbol': 'AL30', 'q_bid': 1827.0, 'px_bid': 77000.0, 'px_ask': 80000.0, 'q_ask': 10413.0, 'v': 136220458.0, 'q_op': 31166.0, 'c': 78410.0, 'pct_change': 1.72}\n",
            "Data:  {'symbol': 'AL30', 'q_bid': 1827.0, 'px_bid': 77000.0, 'px_ask': 80000.0, 'q_ask': 10413.0, 'v': 136220458.0, 'q_op': 31166.0, 'c': 78410.0, 'pct_change': 1.72}\n",
            "Data:  {'symbol': 'AL30', 'q_bid': 1827.0, 'px_bid': 77000.0, 'px_ask': 80000.0, 'q_ask': 10413.0, 'v': 136220458.0, 'q_op': 31166.0, 'c': 78410.0, 'pct_change': 1.72}\n",
            "Data:  {'symbol': 'AL30', 'q_bid': 1827.0, 'px_bid': 77000.0, 'px_ask': 80000.0, 'q_ask': 10413.0, 'v': 136220458.0, 'q_op': 31166.0, 'c': 78410.0, 'pct_change': 1.72}\n",
            "Data:  {'symbol': 'AL30', 'q_bid': 1827.0, 'px_bid': 77000.0, 'px_ask': 80000.0, 'q_ask': 10413.0, 'v': 136220458.0, 'q_op': 31166.0, 'c': 78410.0, 'pct_change': 1.72}\n",
            "Data:  {'symbol': 'AL30', 'q_bid': 1827.0, 'px_bid': 77000.0, 'px_ask': 80000.0, 'q_ask': 10413.0, 'v': 136220458.0, 'q_op': 31166.0, 'c': 78410.0, 'pct_change': 1.72}\n",
            "Data:  {'symbol': 'AL30', 'q_bid': 1827.0, 'px_bid': 77000.0, 'px_ask': 80000.0, 'q_ask': 10413.0, 'v': 136220458.0, 'q_op': 31166.0, 'c': 78410.0, 'pct_change': 1.72}\n",
            "Data:  {'symbol': 'AL30', 'q_bid': 1827.0, 'px_bid': 77000.0, 'px_ask': 80000.0, 'q_ask': 10413.0, 'v': 136220458.0, 'q_op': 31166.0, 'c': 78410.0, 'pct_change': 1.72}\n",
            "Data:  {'symbol': 'AL30', 'q_bid': 1827.0, 'px_bid': 77000.0, 'px_ask': 80000.0, 'q_ask': 10413.0, 'v': 136220458.0, 'q_op': 31166.0, 'c': 78410.0, 'pct_change': 1.72}\n",
            "Data:  {'symbol': 'AL30', 'q_bid': 1827.0, 'px_bid': 77000.0, 'px_ask': 80000.0, 'q_ask': 10413.0, 'v': 136220458.0, 'q_op': 31166.0, 'c': 78410.0, 'pct_change': 1.72}\n",
            "Data:  {'symbol': 'AL30', 'q_bid': 1827.0, 'px_bid': 77000.0, 'px_ask': 80000.0, 'q_ask': 10413.0, 'v': 136220458.0, 'q_op': 31166.0, 'c': 78410.0, 'pct_change': 1.72}\n"
          ]
        },
        {
          "output_type": "error",
          "ename": "KeyboardInterrupt",
          "evalue": "",
          "traceback": [
            "\u001b[0;31m---------------------------------------------------------------------------\u001b[0m",
            "\u001b[0;31mKeyboardInterrupt\u001b[0m                         Traceback (most recent call last)",
            "\u001b[0;32m<ipython-input-1-6e869b4ea3f1>\u001b[0m in \u001b[0;36m<cell line: 9>\u001b[0;34m()\u001b[0m\n\u001b[1;32m     22\u001b[0m     \u001b[0mf\u001b[0m\u001b[0;34m.\u001b[0m\u001b[0mclose\u001b[0m\u001b[0;34m(\u001b[0m\u001b[0;34m)\u001b[0m\u001b[0;34m\u001b[0m\u001b[0;34m\u001b[0m\u001b[0m\n\u001b[1;32m     23\u001b[0m     \u001b[0mcontador\u001b[0m \u001b[0;34m+=\u001b[0m \u001b[0;36m1\u001b[0m\u001b[0;34m\u001b[0m\u001b[0;34m\u001b[0m\u001b[0m\n\u001b[0;32m---> 24\u001b[0;31m     \u001b[0mtime\u001b[0m\u001b[0;34m.\u001b[0m\u001b[0msleep\u001b[0m\u001b[0;34m(\u001b[0m\u001b[0;36m30\u001b[0m\u001b[0;34m)\u001b[0m\u001b[0;34m\u001b[0m\u001b[0;34m\u001b[0m\u001b[0m\n\u001b[0m",
            "\u001b[0;31mKeyboardInterrupt\u001b[0m: "
          ]
        }
      ],
      "source": [
        "import requests, datetime, time\n",
        "\n",
        "now = datetime.datetime.now()\n",
        "fea= now.strftime(\"%d-%m_%H%M%S\")\n",
        "archivo=\"datos_\"+fea+\".txt\"\n",
        "print(\"fecha y hora: \",fea)\n",
        "contador = 1\n",
        "URL = \"https://data912.com/live/arg_bonds\"\n",
        "while (fea != (\"%d-%m_164900\")):\n",
        "    now = datetime.datetime.now()\n",
        "    fecha= now.strftime(\"%d-%m_%H-%M-%S\")\n",
        "    response = requests.get(URL)\n",
        "    if response.status_code == 200:\n",
        "        #print('Solicitud exitosa')\n",
        "        data = response.json()\n",
        "    else:\n",
        "        print('Error en la solicitud, detalles: ', response.text)\n",
        "    print('Data: ', data[6])\n",
        "    dife=data[6].get('pct_change')\n",
        "    f = open(archivo, \"a\")\n",
        "    f.write(\"\\n\"+fecha+\" \"+ \"contador: \"+    str (contador)+\"   \"+str(dife))\n",
        "    f.close()\n",
        "    contador += 1\n",
        "    time.sleep(30)"
      ]
    }
  ]
}